{
 "cells": [
  {
   "cell_type": "markdown",
   "metadata": {
    "id": "aEUmtiz7JcO-"
   },
   "source": [
    "# Preparing Dataset\n",
    "\n",
    "upload and check dataset on colab"
   ]
  },
  {
   "cell_type": "code",
   "execution_count": 1,
   "metadata": {
    "id": "MnvVw2yDE6f2"
   },
   "outputs": [],
   "source": [
    "import os\n",
    "import zipfile\n",
    "import tensorflow as tf\n",
    "import tensorflow_hub as hub\n",
    "from PIL import ImageFile\n",
    "ImageFile.LOAD_TRUNCATED_IMAGES = True"
   ]
  },
  {
   "cell_type": "code",
   "execution_count": 2,
   "metadata": {
    "colab": {
     "base_uri": "https://localhost:8080/"
    },
    "id": "nqWvD0nRJu-j",
    "outputId": "f3d9c987-63d4-4e08-e8e8-2d79d0bf2079"
   },
   "outputs": [
    {
     "name": "stdout",
     "output_type": "stream",
     "text": [
      "N:\\A PROJECT S1\\Semester 6\\1. BANGKIT\\Capstone ML\\Capstone-Bangkit-ML\n"
     ]
    },
    {
     "name": "stderr",
     "output_type": "stream",
     "text": [
      "'unzip' is not recognized as an internal or external command,\n",
      "operable program or batch file.\n"
     ]
    }
   ],
   "source": [
    "cwd = os.getcwd()\n",
    "print(cwd)\n",
    "\n",
    "!unzip Skin-disease.zip \n"
   ]
  },
  {
   "cell_type": "code",
   "execution_count": 3,
   "metadata": {
    "colab": {
     "base_uri": "https://localhost:8080/"
    },
    "id": "PeuZNa-XM0bm",
    "outputId": "64cc93c7-2632-4f7f-9229-867c6e2b631f"
   },
   "outputs": [
    {
     "name": "stdout",
     "output_type": "stream",
     "text": [
      "Found 140 images belonging to 2 classes.\n",
      "Found 30 images belonging to 2 classes.\n"
     ]
    }
   ],
   "source": [
    "from tensorflow.keras.preprocessing.image import ImageDataGenerator\n",
    "\n",
    "# describe training and validation directory\n",
    "base_dir = './Skin-disease'\n",
    "\n",
    "train_dir = os.path.join(base_dir, 'Train')\n",
    "valid_dir = os.path.join(base_dir, 'Valid')\n",
    "\n",
    "# All images will be rescaled by 1./255.\n",
    "train_datagen = ImageDataGenerator( rescale = 1.0/255. )\n",
    "test_datagen  = ImageDataGenerator( rescale = 1.0/255. )\n",
    "\n",
    "# --------------------\n",
    "# Flow training images in batches of 20 using train_datagen generator\n",
    "# --------------------\n",
    "train_generator = train_datagen.flow_from_directory(train_dir,\n",
    "                                                    batch_size=20,\n",
    "                                                    class_mode='binary',\n",
    "                                                    target_size=(224,224))     \n",
    "# --------------------\n",
    "# Flow validation images in batches of 20 using test_datagen generator\n",
    "# --------------------\n",
    "validation_generator =  test_datagen.flow_from_directory(valid_dir,\n",
    "                                                         batch_size=20,\n",
    "                                                         class_mode  = 'binary',\n",
    "                                                         target_size = (224,224))\n"
   ]
  },
  {
   "cell_type": "markdown",
   "metadata": {
    "id": "5HoxHObvKORc"
   },
   "source": [
    "# Building model with Transfer Learning\n"
   ]
  },
  {
   "cell_type": "code",
   "execution_count": 8,
   "metadata": {
    "id": "s6ff-u3nTYAK"
   },
   "outputs": [],
   "source": [
    "do_fine_tuning = True #@param {type:\"boolean\"}\n",
    "\n",
    "if do_fine_tuning:\n",
    "    feature_extractor.trainable = True    \n",
    "else:\n",
    "    feature_extractor.trainable = False"
   ]
  },
  {
   "cell_type": "code",
   "execution_count": 4,
   "metadata": {
    "cellView": "form",
    "colab": {
     "base_uri": "https://localhost:8080/",
     "height": 234
    },
    "id": "hZS4aJNWKTFb",
    "outputId": "c804f664-0eeb-4003-9fd6-93e993dcabcd"
   },
   "outputs": [
    {
     "ename": "NameError",
     "evalue": "ignored",
     "output_type": "error",
     "traceback": [
      "\u001b[0;31m---------------------------------------------------------------------------\u001b[0m",
      "\u001b[0;31mNameError\u001b[0m                                 Traceback (most recent call last)",
      "\u001b[0;32m<ipython-input-4-2b63d79287ea>\u001b[0m in \u001b[0;36m<module>\u001b[0;34m()\u001b[0m\n\u001b[1;32m      2\u001b[0m \u001b[0;34m\u001b[0m\u001b[0m\n\u001b[1;32m      3\u001b[0m feature_extractor = hub.KerasLayer(MODULE_HANDLE,\n\u001b[0;32m----> 4\u001b[0;31m                                    input_shape=IMAGE_SIZE + (3,))\n\u001b[0m\u001b[1;32m      5\u001b[0m \u001b[0;34m\u001b[0m\u001b[0m\n\u001b[1;32m      6\u001b[0m \u001b[0mIMAGE_SIZE\u001b[0m \u001b[0;34m=\u001b[0m\u001b[0;34m(\u001b[0m\u001b[0;36m224\u001b[0m\u001b[0;34m,\u001b[0m\u001b[0;36m224\u001b[0m\u001b[0;34m)\u001b[0m\u001b[0;34m\u001b[0m\u001b[0;34m\u001b[0m\u001b[0m\n",
      "\u001b[0;31mNameError\u001b[0m: name 'IMAGE_SIZE' is not defined"
     ]
    }
   ],
   "source": [
    "#@title Default title text\n",
    "MODULE_HANDLE = \"https://tfhub.dev/google/tf2-preview/mobilenet_v2/feature_vector/4\"\n",
    "\n",
    "IMAGE_SIZE =(224,224)\n",
    "\n",
    "feature_extractor = hub.KerasLayer(MODULE_HANDLE,\n",
    "                                   input_shape=IMAGE_SIZE + (3,))\n",
    "\n",
    "\n",
    "model = tf.keras.Sequential([\n",
    "        hub.KerasLayer(MODULE_HANDLE,\n",
    "                       input_shape=IMAGE_SIZE + (3,)),\n",
    "        tf.keras.layers.Dense(2, activation='softmax')\n",
    "])\n",
    "\n",
    "model.summary()"
   ]
  },
  {
   "cell_type": "code",
   "execution_count": 6,
   "metadata": {
    "colab": {
     "base_uri": "https://localhost:8080/"
    },
    "id": "2-e3mjehTzFc",
    "outputId": "569c984b-6669-4058-ee3c-0979060679ae"
   },
   "outputs": [
    {
     "name": "stdout",
     "output_type": "stream",
     "text": [
      "Model: \"sequential\"\n",
      "_________________________________________________________________\n",
      " Layer (type)                Output Shape              Param #   \n",
      "=================================================================\n",
      " keras_layer (KerasLayer)    (None, 1280)              2257984   \n",
      "                                                                 \n",
      " dense (Dense)               (None, 2)                 2562      \n",
      "                                                                 \n",
      "=================================================================\n",
      "Total params: 2,260,546\n",
      "Trainable params: 2,562\n",
      "Non-trainable params: 2,257,984\n",
      "_________________________________________________________________\n"
     ]
    }
   ],
   "source": [
    "MODULE_HANDLE = \"https://tfhub.dev/google/tf2-preview/mobilenet_v2/feature_vector/4\"\n",
    "\n",
    "IMAGE_SIZE =(224,224)\n",
    "\n",
    "feature_extractor = hub.KerasLayer(MODULE_HANDLE,\n",
    "                                   input_shape=IMAGE_SIZE + (3,))\n",
    "\n",
    "model = tf.keras.Sequential([\n",
    "        feature_extractor,\n",
    "        tf.keras.layers.Dense(2, activation='softmax')\n",
    "])\n",
    "\n",
    "model.summary()"
   ]
  },
  {
   "cell_type": "code",
   "execution_count": 7,
   "metadata": {
    "id": "krKIBaL1McLo"
   },
   "outputs": [],
   "source": [
    "model.compile(optimizer = 'adam',\n",
    "              loss = 'sparse_categorical_crossentropy',\n",
    "              metrics = ['accuracy'])"
   ]
  },
  {
   "cell_type": "markdown",
   "metadata": {
    "id": "K4uPkNiZOQ0T"
   },
   "source": [
    "# Train model with datset"
   ]
  },
  {
   "cell_type": "code",
   "execution_count": 9,
   "metadata": {
    "colab": {
     "base_uri": "https://localhost:8080/"
    },
    "id": "5WFD-LXhOQW4",
    "outputId": "ca6e0988-1bc8-4948-bfce-8e364421dd0d"
   },
   "outputs": [
    {
     "name": "stdout",
     "output_type": "stream",
     "text": [
      "Epoch 1/15\n",
      "7/7 [==============================] - 14s 222ms/step - loss: 0.6965 - accuracy: 0.6143 - val_loss: 0.6051 - val_accuracy: 0.7000\n",
      "Epoch 2/15\n",
      "7/7 [==============================] - 1s 113ms/step - loss: 0.3836 - accuracy: 0.8857 - val_loss: 0.6064 - val_accuracy: 0.8000\n",
      "Epoch 3/15\n",
      "7/7 [==============================] - 1s 109ms/step - loss: 0.3042 - accuracy: 0.9143 - val_loss: 0.7479 - val_accuracy: 0.6333\n",
      "Epoch 4/15\n",
      "7/7 [==============================] - 1s 108ms/step - loss: 0.2411 - accuracy: 0.9143 - val_loss: 0.5891 - val_accuracy: 0.7667\n",
      "Epoch 5/15\n",
      "7/7 [==============================] - 1s 110ms/step - loss: 0.1849 - accuracy: 0.9286 - val_loss: 0.6488 - val_accuracy: 0.7667\n",
      "Epoch 6/15\n",
      "7/7 [==============================] - 1s 113ms/step - loss: 0.1531 - accuracy: 0.9500 - val_loss: 0.6989 - val_accuracy: 0.7333\n",
      "Epoch 7/15\n",
      "7/7 [==============================] - 1s 111ms/step - loss: 0.1271 - accuracy: 0.9714 - val_loss: 0.6280 - val_accuracy: 0.7667\n",
      "Epoch 8/15\n",
      "7/7 [==============================] - 1s 114ms/step - loss: 0.1092 - accuracy: 0.9714 - val_loss: 0.6358 - val_accuracy: 0.7667\n",
      "Epoch 9/15\n",
      "7/7 [==============================] - 1s 111ms/step - loss: 0.0947 - accuracy: 0.9857 - val_loss: 0.6633 - val_accuracy: 0.7667\n",
      "Epoch 10/15\n",
      "7/7 [==============================] - 1s 113ms/step - loss: 0.0841 - accuracy: 0.9857 - val_loss: 0.6794 - val_accuracy: 0.7667\n",
      "Epoch 11/15\n",
      "7/7 [==============================] - 1s 114ms/step - loss: 0.0752 - accuracy: 1.0000 - val_loss: 0.7233 - val_accuracy: 0.7333\n",
      "Epoch 12/15\n",
      "7/7 [==============================] - 1s 121ms/step - loss: 0.0674 - accuracy: 1.0000 - val_loss: 0.7163 - val_accuracy: 0.7667\n",
      "Epoch 13/15\n",
      "7/7 [==============================] - 1s 115ms/step - loss: 0.0609 - accuracy: 1.0000 - val_loss: 0.7003 - val_accuracy: 0.7667\n",
      "Epoch 14/15\n",
      "7/7 [==============================] - 1s 116ms/step - loss: 0.0560 - accuracy: 1.0000 - val_loss: 0.7347 - val_accuracy: 0.7667\n",
      "Epoch 15/15\n",
      "7/7 [==============================] - 1s 110ms/step - loss: 0.0509 - accuracy: 1.0000 - val_loss: 0.7749 - val_accuracy: 0.7667\n"
     ]
    }
   ],
   "source": [
    "history = model.fit(train_generator,\n",
    "                    validation_data=validation_generator,\n",
    "                    epochs=15)"
   ]
  },
  {
   "cell_type": "markdown",
   "metadata": {
    "id": "Sq2875rDVEsr"
   },
   "source": [
    "# Evaluate train model"
   ]
  },
  {
   "cell_type": "code",
   "execution_count": 10,
   "metadata": {
    "colab": {
     "base_uri": "https://localhost:8080/",
     "height": 562
    },
    "id": "ZiZZpvuaOgKf",
    "outputId": "3034a777-3233-4d14-b1a3-d449c71ed0ad"
   },
   "outputs": [
    {
     "data": {
      "text/plain": [
       "Text(0.5, 1.0, 'Training and validation loss')"
      ]
     },
     "execution_count": 10,
     "metadata": {},
     "output_type": "execute_result"
    },
    {
     "data": {
      "image/png": "[encoded data removed]",
      "text/plain": [
       "<Figure size 432x288 with 1 Axes>"
      ]
     },
     "metadata": {
      "needs_background": "light"
     },
     "output_type": "display_data"
    },
    {
     "data": {
      "image/png": "[encoded data removed]",
      "text/plain": [
       "<Figure size 432x288 with 1 Axes>"
      ]
     },
     "metadata": {
      "needs_background": "light"
     },
     "output_type": "display_data"
    }
   ],
   "source": [
    "import matplotlib.pyplot as plt\n",
    "\n",
    "\n",
    "acc      = history.history[     'accuracy' ]\n",
    "val_acc  = history.history[ 'val_accuracy' ]\n",
    "loss     = history.history[    'loss' ]\n",
    "val_loss = history.history['val_loss' ]\n",
    "\n",
    "epochs   = range(len(acc)) # Get number of epochs\n",
    "\n",
    "\n",
    "plt.plot  ( epochs,     acc, label='Training')\n",
    "plt.plot  ( epochs, val_acc, label='Validation')\n",
    "plt.title ('Training and validation accuracy')\n",
    "plt.legend()\n",
    "plt.figure()\n",
    "\n",
    "plt.plot  ( epochs,     loss, label='Training')\n",
    "plt.plot  ( epochs, val_loss, label='Validation')\n",
    "plt.legend()\n",
    "plt.title ('Training and validation loss')"
   ]
  },
  {
   "cell_type": "markdown",
   "metadata": {
    "id": "gvxecb4Og33Z"
   },
   "source": [
    "# Export Model\n",
    "\n"
   ]
  },
  {
   "cell_type": "code",
   "execution_count": 11,
   "metadata": {
    "id": "-VS7aRxvhL5s"
   },
   "outputs": [],
   "source": [
    "two_skin_disease = 'two_skin_disease'"
   ]
  },
  {
   "cell_type": "code",
   "execution_count": 12,
   "metadata": {
    "colab": {
     "base_uri": "https://localhost:8080/"
    },
    "id": "zDOcdTL6hYF6",
    "outputId": "9de021a2-3409-4dcf-ea4e-30dbdf6f5fff"
   },
   "outputs": [
    {
     "name": "stdout",
     "output_type": "stream",
     "text": [
      "INFO:tensorflow:Assets written to: two_skin_disease/assets\n"
     ]
    },
    {
     "name": "stderr",
     "output_type": "stream",
     "text": [
      "INFO:tensorflow:Assets written to: two_skin_disease/assets\n"
     ]
    }
   ],
   "source": [
    "tf.saved_model.save(model, two_skin_disease)"
   ]
  },
  {
   "cell_type": "code",
   "execution_count": 14,
   "metadata": {
    "colab": {
     "base_uri": "https://localhost:8080/"
    },
    "id": "eXXLu6JeihBB",
    "outputId": "071929b1-c130-4ae5-987d-742d25b998c8"
   },
   "outputs": [
    {
     "name": "stdout",
     "output_type": "stream",
     "text": [
      "The given SavedModel SignatureDef contains the following input(s):\n",
      "  inputs['keras_layer_input'] tensor_info:\n",
      "      dtype: DT_FLOAT\n",
      "      shape: (-1, 224, 224, 3)\n",
      "      name: serving_default_keras_layer_input:0\n",
      "The given SavedModel SignatureDef contains the following output(s):\n",
      "  outputs['dense'] tensor_info:\n",
      "      dtype: DT_FLOAT\n",
      "      shape: (-1, 2)\n",
      "      name: StatefulPartitionedCall:0\n",
      "Method name is: tensorflow/serving/predict\n"
     ]
    }
   ],
   "source": [
    "%%bash -s $two_skin_disease\n",
    "saved_model_cli show --dir $1 --tag_set serve --signature_def serving_default"
   ]
  },
  {
   "cell_type": "code",
   "execution_count": 15,
   "metadata": {
    "id": "ypV5peY_ijlR"
   },
   "outputs": [],
   "source": [
    "loaded = tf.saved_model.load(two_skin_disease)"
   ]
  },
  {
   "cell_type": "code",
   "execution_count": 16,
   "metadata": {
    "colab": {
     "base_uri": "https://localhost:8080/"
    },
    "id": "2xISZ1VAix3u",
    "outputId": "7dfba639-ac3c-4a9d-e653-202e5a937f58"
   },
   "outputs": [
    {
     "name": "stdout",
     "output_type": "stream",
     "text": [
      "['serving_default']\n",
      "((), {'keras_layer_input': TensorSpec(shape=(None, 224, 224, 3), dtype=tf.float32, name='keras_layer_input')})\n",
      "{'dense': TensorSpec(shape=(None, 2), dtype=tf.float32, name='dense')}\n"
     ]
    }
   ],
   "source": [
    "print(list(loaded.signatures.keys()))\n",
    "infer = loaded.signatures[\"serving_default\"]\n",
    "print(infer.structured_input_signature)\n",
    "print(infer.structured_outputs)"
   ]
  },
  {
   "cell_type": "markdown",
   "metadata": {
    "id": "xio_zeN9jbyb"
   },
   "source": [
    "# Convert to TFLite and Download"
   ]
  },
  {
   "cell_type": "code",
   "execution_count": 17,
   "metadata": {
    "colab": {
     "base_uri": "https://localhost:8080/"
    },
    "id": "qDuVazPOi2LN",
    "outputId": "b7132bd1-eaa3-42e1-fe4b-75191c699d75"
   },
   "outputs": [
    {
     "name": "stderr",
     "output_type": "stream",
     "text": [
      "WARNING:absl:Optimization option OPTIMIZE_FOR_SIZE is deprecated, please use optimizations=[Optimize.DEFAULT] instead.\n",
      "WARNING:absl:Optimization option OPTIMIZE_FOR_SIZE is deprecated, please use optimizations=[Optimize.DEFAULT] instead.\n",
      "WARNING:absl:Optimization option OPTIMIZE_FOR_SIZE is deprecated, please use optimizations=[Optimize.DEFAULT] instead.\n",
      "WARNING:absl:Buffer deduplication procedure will be skipped when flatbuffer library is not properly loaded\n"
     ]
    }
   ],
   "source": [
    "converter = tf.lite.TFLiteConverter.from_saved_model(two_skin_disease)\n",
    "converter.optimizations = [tf.lite.Optimize.OPTIMIZE_FOR_SIZE]\n",
    "tflite_model = converter.convert()"
   ]
  },
  {
   "cell_type": "code",
   "execution_count": 18,
   "metadata": {
    "id": "E0fwyiIKjEzA"
   },
   "outputs": [],
   "source": [
    "tflite_model_file = '2skin_model.tflite'\n",
    "\n",
    "with open(tflite_model_file, \"wb\") as f:\n",
    "    f.write(tflite_model)"
   ]
  },
  {
   "cell_type": "code",
   "execution_count": 22,
   "metadata": {
    "id": "MbzPYj2MkaOj"
   },
   "outputs": [],
   "source": [
    "class_names = ['chickenpox','scabies']\n",
    "\n",
    "with open('labels.txt', 'w') as f:\n",
    "    f.write('\\n'.join(class_names))"
   ]
  },
  {
   "cell_type": "code",
   "execution_count": 23,
   "metadata": {
    "colab": {
     "base_uri": "https://localhost:8080/",
     "height": 17
    },
    "id": "y473kZfHjisS",
    "outputId": "22ed7806-f998-4fa0-a685-5622de7d03f7"
   },
   "outputs": [
    {
     "data": {
      "application/javascript": [
       "\n",
       "    async function download(id, filename, size) {\n",
       "      if (!google.colab.kernel.accessAllowed) {\n",
       "        return;\n",
       "      }\n",
       "      const div = document.createElement('div');\n",
       "      const label = document.createElement('label');\n",
       "      label.textContent = `Downloading \"${filename}\": `;\n",
       "      div.appendChild(label);\n",
       "      const progress = document.createElement('progress');\n",
       "      progress.max = size;\n",
       "      div.appendChild(progress);\n",
       "      document.body.appendChild(div);\n",
       "\n",
       "      const buffers = [];\n",
       "      let downloaded = 0;\n",
       "\n",
       "      const channel = await google.colab.kernel.comms.open(id);\n",
       "      // Send a message to notify the kernel that we're ready.\n",
       "      channel.send({})\n",
       "\n",
       "      for await (const message of channel.messages) {\n",
       "        // Send a message to notify the kernel that we're ready.\n",
       "        channel.send({})\n",
       "        if (message.buffers) {\n",
       "          for (const buffer of message.buffers) {\n",
       "            buffers.push(buffer);\n",
       "            downloaded += buffer.byteLength;\n",
       "            progress.value = downloaded;\n",
       "          }\n",
       "        }\n",
       "      }\n",
       "      const blob = new Blob(buffers, {type: 'application/binary'});\n",
       "      const a = document.createElement('a');\n",
       "      a.href = window.URL.createObjectURL(blob);\n",
       "      a.download = filename;\n",
       "      div.appendChild(a);\n",
       "      a.click();\n",
       "      div.remove();\n",
       "    }\n",
       "  "
      ],
      "text/plain": [
       "<IPython.core.display.Javascript object>"
      ]
     },
     "metadata": {},
     "output_type": "display_data"
    },
    {
     "data": {
      "application/javascript": [
       "download(\"download_1181219a-fbbf-4005-899c-45f65953d591\", \"2skin_model.tflite\", 2649152)"
      ],
      "text/plain": [
       "<IPython.core.display.Javascript object>"
      ]
     },
     "metadata": {},
     "output_type": "display_data"
    },
    {
     "data": {
      "application/javascript": [
       "\n",
       "    async function download(id, filename, size) {\n",
       "      if (!google.colab.kernel.accessAllowed) {\n",
       "        return;\n",
       "      }\n",
       "      const div = document.createElement('div');\n",
       "      const label = document.createElement('label');\n",
       "      label.textContent = `Downloading \"${filename}\": `;\n",
       "      div.appendChild(label);\n",
       "      const progress = document.createElement('progress');\n",
       "      progress.max = size;\n",
       "      div.appendChild(progress);\n",
       "      document.body.appendChild(div);\n",
       "\n",
       "      const buffers = [];\n",
       "      let downloaded = 0;\n",
       "\n",
       "      const channel = await google.colab.kernel.comms.open(id);\n",
       "      // Send a message to notify the kernel that we're ready.\n",
       "      channel.send({})\n",
       "\n",
       "      for await (const message of channel.messages) {\n",
       "        // Send a message to notify the kernel that we're ready.\n",
       "        channel.send({})\n",
       "        if (message.buffers) {\n",
       "          for (const buffer of message.buffers) {\n",
       "            buffers.push(buffer);\n",
       "            downloaded += buffer.byteLength;\n",
       "            progress.value = downloaded;\n",
       "          }\n",
       "        }\n",
       "      }\n",
       "      const blob = new Blob(buffers, {type: 'application/binary'});\n",
       "      const a = document.createElement('a');\n",
       "      a.href = window.URL.createObjectURL(blob);\n",
       "      a.download = filename;\n",
       "      div.appendChild(a);\n",
       "      a.click();\n",
       "      div.remove();\n",
       "    }\n",
       "  "
      ],
      "text/plain": [
       "<IPython.core.display.Javascript object>"
      ]
     },
     "metadata": {},
     "output_type": "display_data"
    },
    {
     "data": {
      "application/javascript": [
       "download(\"download_97adc99c-e193-4ce3-a69e-812fe0e3c197\", \"labels.txt\", 18)"
      ],
      "text/plain": [
       "<IPython.core.display.Javascript object>"
      ]
     },
     "metadata": {},
     "output_type": "display_data"
    }
   ],
   "source": [
    "try:\n",
    "    from google.colab import files\n",
    "    files.download('2skin_model.tflite')\n",
    "    files.download('labels.txt')\n",
    "except:\n",
    "    pass"
   ]
  }
 ],
 "metadata": {
  "accelerator": "GPU",
  "colab": {
   "collapsed_sections": [],
   "name": "model 2 penyakit.ipynb",
   "provenance": []
  },
  "kernelspec": {
   "display_name": "Python 3 (ipykernel)",
   "language": "python",
   "name": "python3"
  },
  "language_info": {
   "codemirror_mode": {
    "name": "ipython",
    "version": 3
   },
   "file_extension": ".py",
   "mimetype": "text/x-python",
   "name": "python",
   "nbconvert_exporter": "python",
   "pygments_lexer": "ipython3",
   "version": "3.10.2"
  }
 },
 "nbformat": 4,
 "nbformat_minor": 1
}
